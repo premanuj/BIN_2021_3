{
 "cells": [
  {
   "cell_type": "code",
   "execution_count": 6,
   "metadata": {},
   "outputs": [
    {
     "name": "stdout",
     "output_type": "stream",
     "text": [
      "Enter the number: 4\n"
     ]
    }
   ],
   "source": [
    "i = input(\"Enter the number: \")"
   ]
  },
  {
   "cell_type": "code",
   "execution_count": 9,
   "metadata": {},
   "outputs": [
    {
     "name": "stdout",
     "output_type": "stream",
     "text": [
      "The number is 4\n"
     ]
    }
   ],
   "source": [
    "if not i.isdigit():\n",
    "    print(\"Input must be interger\")\n",
    "else:\n",
    "    print(f'The number is {i}')\n"
   ]
  },
  {
   "cell_type": "code",
   "execution_count": 8,
   "metadata": {},
   "outputs": [
    {
     "data": {
      "text/plain": [
       "False"
      ]
     },
     "execution_count": 8,
     "metadata": {},
     "output_type": "execute_result"
    }
   ],
   "source": [
    "not i.isdigit()"
   ]
  },
  {
   "cell_type": "code",
   "execution_count": 10,
   "metadata": {},
   "outputs": [
    {
     "name": "stdout",
     "output_type": "stream",
     "text": [
      "Enter the number: python\n",
      "Input must be integer.\n",
      "Enter again: fdsf\n",
      "Input must be integer.\n",
      "Enter again: fsdfsd\n",
      "Input must be integer.\n",
      "Enter again: fdsfds\n",
      "Input must be integer.\n",
      "Enter again: sdgds\n",
      "Input must be integer.\n",
      "Enter again: 4\n"
     ]
    }
   ],
   "source": [
    "i = input(\"Enter the number: \")\n",
    "while True:\n",
    "    if not i.isdigit():\n",
    "        print(\"Input must be integer.\")\n",
    "        i = input(\"Enter again: \")\n",
    "    else:\n",
    "        break\n",
    "        "
   ]
  },
  {
   "cell_type": "code",
   "execution_count": 11,
   "metadata": {},
   "outputs": [
    {
     "data": {
      "text/plain": [
       "'4'"
      ]
     },
     "execution_count": 11,
     "metadata": {},
     "output_type": "execute_result"
    }
   ],
   "source": [
    "i"
   ]
  },
  {
   "cell_type": "code",
   "execution_count": 13,
   "metadata": {},
   "outputs": [
    {
     "name": "stdout",
     "output_type": "stream",
     "text": [
      "Enter the number: fd\n",
      "Input must be integer.\n",
      "Enter again: dfs\n",
      "Input must be integer.\n",
      "Enter again: fds\n",
      "Input must be integer.\n",
      "Enter again: fds\n",
      "Input must be integer.\n",
      "Enter again: 5\n"
     ]
    }
   ],
   "source": [
    "i = input(\"Enter the number: \")\n",
    "while True:\n",
    "    if not i.isdigit():\n",
    "        print(\"Input must be integer.\")\n",
    "        i = input(\"Enter again: \")\n",
    "        continue\n",
    "    break\n",
    "        "
   ]
  },
  {
   "cell_type": "code",
   "execution_count": 14,
   "metadata": {},
   "outputs": [],
   "source": [
    "i = 4"
   ]
  },
  {
   "cell_type": "code",
   "execution_count": 19,
   "metadata": {},
   "outputs": [
    {
     "name": "stdout",
     "output_type": "stream",
     "text": [
      "******\n",
      "*******\n",
      "********\n",
      "*********\n"
     ]
    }
   ],
   "source": [
    "for j in range(1, i+1):\n",
    "    for k in range(i+j+1):\n",
    "        print(\"*\", end=\"\")\n",
    "    print()"
   ]
  },
  {
   "cell_type": "code",
   "execution_count": 33,
   "metadata": {},
   "outputs": [
    {
     "data": {
      "text/plain": [
       "5"
      ]
     },
     "execution_count": 33,
     "metadata": {},
     "output_type": "execute_result"
    }
   ],
   "source": [
    "i"
   ]
  },
  {
   "cell_type": "code",
   "execution_count": 50,
   "metadata": {},
   "outputs": [
    {
     "name": "stdout",
     "output_type": "stream",
     "text": [
      "    \n",
      "   *\n",
      "  ***\n",
      " *****\n",
      "*******\n"
     ]
    }
   ],
   "source": [
    "for j in range(1,i+1):\n",
    "    for x in range(i-j, 0, -1):\n",
    "        print(\" \", end=\"\")\n",
    "    for k in range(1, 2*j-2):\n",
    "        print(\"*\", end=\"\")\n",
    "    print()"
   ]
  },
  {
   "cell_type": "code",
   "execution_count": 48,
   "metadata": {},
   "outputs": [
    {
     "name": "stdout",
     "output_type": "stream",
     "text": [
      "xxx\n",
      "xx\n",
      "x\n",
      "\n",
      "\n"
     ]
    }
   ],
   "source": [
    "for j in range(1,i+1):\n",
    "    for x in range(i-j, 1, -1):\n",
    "        print(\"x\", end=\"\")\n",
    "    print()"
   ]
  },
  {
   "cell_type": "code",
   "execution_count": null,
   "metadata": {},
   "outputs": [],
   "source": []
  }
 ],
 "metadata": {
  "kernelspec": {
   "display_name": "Python 3",
   "language": "python",
   "name": "python3"
  },
  "language_info": {
   "codemirror_mode": {
    "name": "ipython",
    "version": 3
   },
   "file_extension": ".py",
   "mimetype": "text/x-python",
   "name": "python",
   "nbconvert_exporter": "python",
   "pygments_lexer": "ipython3",
   "version": "3.7.3"
  }
 },
 "nbformat": 4,
 "nbformat_minor": 2
}
